{
 "cells": [
  {
   "cell_type": "markdown",
   "metadata": {},
   "source": [
    "# Une introduction accélérée à Jupyter\n",
    "\n",
    "👉 *Même si vous avez déjà joué avec Jupyter, prenez quelques minutes pour parcourir ce notebook, vous pourriez apprendre certaines choses...*\n",
    "\n",
    "[Jupyter](https://jupyter.org/) est un outil formidable pour le travail scientifique.\n",
    "\n",
    "Il permet de manipuler des *notebooks* qui comportent chacun un ensemble de *cellules* ordonnés.\n",
    "En général, on utilise 2 types de cellules :\n",
    "- les **cellules de code**, écrites en Python amélioré, et qui lorsqu'elles sont exécutées vont modifier l'état du *kernel* associé au notebook **et** afficher le résultat juste en dessous ;\n",
    "- les **cellules de commentaires**, écrites en Markdown, et qui lorsqu'elles sont exécutées vont afficher le rendu associé.\n",
    "\n",
    "C'est très pratique pour faire de jolis rapports, et surtout pour mettre au point des traitements de données.  \n",
    "Pourquoi ?  \n",
    "Parce que les cellules peuvent êtres exécutées\n",
    "- indépendamment,\n",
    "- plusieurs fois,\n",
    "- dans l'ordre qu'on veut."
   ]
  },
  {
   "cell_type": "markdown",
   "metadata": {},
   "source": [
    "## Le *kernel*\n",
    "Le *kernel* associé avec votre notebook est un processus Python, avec des variables et des fonctions définies.\n",
    "Vous pouvez créer, modifier et supprimer des variables et des fonctions, et invoquer les fonctions disponibles.\n",
    "\n",
    "Nous le verrons après : attention à la confusion car on peut changer la valeur d'une variable dans une cellule, puis supprimer ou changer cette dernière avant de se demander comment la variable a bien pu obtenir cette valeur…"
   ]
  },
  {
   "cell_type": "markdown",
   "metadata": {},
   "source": [
    "## Manipuler des cellules\n",
    "\n",
    "Les cellules Jupyter ont 2 modes, un peu comme Vim :\n",
    "\n",
    "1. le mode **commande** (appuyez sur <kbd>Esc</kbd> pour l'activer)\n",
    "2. le mode **édition** (appuyez sur <kbd>Enter</kbd> pour l'activer)\n",
    "\n",
    "Si votre navigateur n'a pas déjà de raccourcis pour cette action, alors vous pouvez afficher la **palette de commandes** avec la séquence <kbd>Ctrl</kbd>+<kbd>Shift</kbd>+<kbd>P</kbd> à n'importe quel moment."
   ]
  },
  {
   "cell_type": "markdown",
   "metadata": {},
   "source": [
    "<div style=\"overflow: auto; border-style: dotted; border-width: 1px; padding: 10px; margin: 10px 0px\">\n",
    "        \n",
    "**Appuyez sur <kbd>Ctrl</kbd>+<kbd>Shift</kbd>+<kbd>P</kbd> pour afficher la palette et saisissez `shortcut` pour regarder la liste des raccourcis clavier.**\n",
    "</div>"
   ]
  },
  {
   "cell_type": "markdown",
   "metadata": {},
   "source": [
    "Vous pouvez changer la façon dont les cellules sont interprétées.\n",
    "Voici les deux types de cellules utiles :\n",
    "1. code (<kbd>Esc</kbd>+<kbd>y</kbd>) ← pour écrire du code Python et l'exécuter\n",
    "2. markdown (<kbd>Ctrl</kbd>+<kbd>m</kbd>) ← pour prendre des notes"
   ]
  },
  {
   "cell_type": "markdown",
   "metadata": {},
   "source": [
    "<div style=\"overflow: auto; border-style: dotted; border-width: 1px; padding: 10px; margin: 10px 0px\">\n",
    "   \n",
    "**Changez le type de cette cellule. Remarquez comment la coloration syntaxique change !**\n",
    "</div>"
   ]
  },
  {
   "cell_type": "markdown",
   "metadata": {},
   "source": [
    "Vous pouvez aussi insérer, fusionner, copier, coller, supprimer, déplacer, couper des cellules."
   ]
  },
  {
   "cell_type": "markdown",
   "metadata": {},
   "source": [
    "<div style=\"overflow: auto; border-style: dotted; border-width: 1px; padding: 10px; margin: 10px 0px\">\n",
    "   \n",
    "**Consultez à nouveau les raccourcis en pressant <kbd>h</kbd> en mode commande.**\n",
    "**Assurez-vous de bien retenir les raccourcis pour insérer une cellule au dessus (*above*) (<kbd>a</kbd>), dessous (*below*) (<kbd>b</kbd>) et pour supprimer (*delete*) (<kbd>d</kbd>+<kbd>d</kbd>) car vous allez vous en servir en permanence !**\n",
    "</div>"
   ]
  },
  {
   "cell_type": "markdown",
   "metadata": {},
   "source": [
    "## Exécuter des cellules\n",
    "Tout ça c'est bien joli, mais comment exécute-t-on les cellules ?\n",
    "\n",
    "C'est facile :\n",
    "1. Activez le mode édition (<kbd>Enter</kbd>)\n",
    "2. Puis utilisez au choix :\n",
    "  - <kbd>Ctrl</kbd>+<kbd>Enter</kbd> pour exécuter la cellule courante et passer en mode commande ;\n",
    "  - <kbd>Shift</kbd>+<kbd>Enter</kbd> pour exécuter la cellule courante et sélectionner la suivante en mode commande ;\n",
    "  - <kbd>Alt</kbd>+<kbd>Enter</kbd> pour exécuter la cellule courante, insérer une nouvelle cellule dessous, et activer le mode édition de la nouvelle cellule."
   ]
  },
  {
   "cell_type": "markdown",
   "metadata": {},
   "source": [
    "<div style=\"overflow: auto; border-style: dotted; border-width: 1px; padding: 10px; margin: 10px 0px\">\n",
    "   \n",
    "**Sélectionnez la cellule ci-dessous, passez-la en mode \"Python\" et exécutez-la.**\n",
    "</div>"
   ]
  },
  {
   "cell_type": "markdown",
   "metadata": {},
   "source": [
    "print('%$d!à *équ!o2j$ snxeeinbo  o1v arr3B$'[-2:2:-2])"
   ]
  },
  {
   "cell_type": "markdown",
   "metadata": {},
   "source": [
    "## Écrire de la prose\n",
    "\n",
    "Pour écrire du texte libre, c'est facile aussi : changer le type de la cellule à [markdown](https://github.com/adam-p/markdown-here/wiki/Markdown-Cheatsheet) et écrivez du texte en format ~~ReStructured~~ .\n",
    "\n",
    "C'est aussi facile que $1 + 1 = 3$ !\n",
    "\n",
    "Oui ! On peut faire des maths ! Et même insérer des images, on verra ça plus tard…\n",
    "\n",
    "$$(f * g)(t) \\triangleq\\ \\int_{-\\infty}^\\infty f(\\tau) g(t - \\tau) \\, d\\tau$$"
   ]
  },
  {
   "cell_type": "markdown",
   "metadata": {},
   "source": [
    "<div style=\"overflow: auto; border-style: dotted; border-width: 1px; padding: 10px; margin: 10px 0px\">\n",
    "   \n",
    "**Editez et corrigez les erreurs dans la cellule précédente.**\n",
    "</div>"
   ]
  },
  {
   "cell_type": "markdown",
   "metadata": {},
   "source": [
    "## La magie d'iPython\n",
    "\n",
    "Jupyter peut fonctionner avec des *kernels* supportant différents langages, et se base sur [iPython](https://ipython.org/) pour proposer un processus Python interactif. Une sorte de super [REPL](https://en.wikipedia.org/wiki/Read%E2%80%93eval%E2%80%93print_loop).\n",
    "\n",
    "iPython offre [beaucoup plus de fonctionnalités](https://ipython.readthedocs.io/en/stable/overview.html) que l'interpréteur Python de base, avec en particulier :\n",
    "- une complétion invoquée à l'aide de la touche <kbd>Tab</kbd> ;\n",
    "- des interactions avec le shell à l'aide des constructions `!`, `!!` ou `var = !shell_command` qui permettent *à la fois* de lancer une commande dans le shell et de capturer son résultat très facilement (et en plus on peut passer des variables Python en paramètre avec la syntaxe `$variable` ou `${variable}`) ;\n",
    "- des commandes *magic* au niveau ligne (`%` magics) ou au niveau cellule (`%%` magics);\n",
    "- une aide en ligne grâce à `?` et `??` qui supportent des caractères génériques (`*`) en prime !"
   ]
  },
  {
   "cell_type": "markdown",
   "metadata": {},
   "source": [
    "<div style=\"overflow: auto; border-style: dotted; border-width: 1px; padding: 10px; margin: 10px 0px\">\n",
    "    \n",
    "**Utiliser la *magic* `%quickref` pour en savoir plus sur les fonctionnalités essentielles.**\n",
    "</div>"
   ]
  },
  {
   "cell_type": "code",
   "execution_count": null,
   "metadata": {},
   "outputs": [],
   "source": [
    "# TODO Call this cell!\n",
    "%quickref"
   ]
  },
  {
   "cell_type": "markdown",
   "metadata": {},
   "source": [
    "<div style=\"overflow: auto; border-style: dotted; border-width: 1px; padding: 10px; margin: 10px 0px\">\n",
    "\n",
    "**Capturer la liste des fichiers du répertoire courant dans une variable à l'aide du *shell escape* `!`.**\n",
    "</div>"
   ]
  },
  {
   "cell_type": "code",
   "execution_count": null,
   "metadata": {},
   "outputs": [],
   "source": [
    "# TODO fix this cell\n",
    "notebooks = !echo nothing\n",
    "notebooks[:10]"
   ]
  },
  {
   "cell_type": "markdown",
   "metadata": {},
   "source": [
    "## Afficher un résultat\n",
    "La règle est très simple : Jupyter affiche la valeur de la dernière instruction renvoyée."
   ]
  },
  {
   "cell_type": "code",
   "execution_count": null,
   "metadata": {},
   "outputs": [],
   "source": [
    "None  # N'affiche rien"
   ]
  },
  {
   "cell_type": "code",
   "execution_count": null,
   "metadata": {},
   "outputs": [],
   "source": [
    "1  # Affiche 1"
   ]
  },
  {
   "cell_type": "code",
   "execution_count": null,
   "metadata": {},
   "outputs": [],
   "source": [
    "1\n",
    "2  # Affiche 2"
   ]
  },
  {
   "cell_type": "code",
   "execution_count": null,
   "metadata": {},
   "outputs": [],
   "source": [
    "print(\"1\")  # On peut faire des print, mais ce n'est pas le résultat\n",
    "2"
   ]
  },
  {
   "cell_type": "markdown",
   "metadata": {},
   "source": [
    "## Se mélanger les pinceaux\n",
    "Et si vous exécutez plusieurs fois, dans n'importe quel ordre, les cellules ci-dessous, que se passe-t-il ?"
   ]
  },
  {
   "cell_type": "code",
   "execution_count": null,
   "metadata": {},
   "outputs": [],
   "source": [
    "my_var = 1"
   ]
  },
  {
   "cell_type": "code",
   "execution_count": null,
   "metadata": {},
   "outputs": [],
   "source": [
    "my_var += 1"
   ]
  },
  {
   "cell_type": "code",
   "execution_count": null,
   "metadata": {},
   "outputs": [],
   "source": [
    "my_var"
   ]
  },
  {
   "cell_type": "markdown",
   "metadata": {},
   "source": [
    "## Benchmark\n",
    "\n",
    "Voyons comment mesurer le temps pris par un calcul.\n",
    "\n",
    "Voici une fonction [d'apparence assez simple](https://en.wikipedia.org/wiki/Collatz_conjecture) qui renvoie un entier positif pour chaque entier positif > 0 (*normalement*)."
   ]
  },
  {
   "cell_type": "code",
   "execution_count": null,
   "metadata": {},
   "outputs": [],
   "source": [
    "def collatz_total_stopping_time(n):\n",
    "    if not n > 0:\n",
    "        raise ValueError(\"n must be > 0\")\n",
    "    nn = n\n",
    "    i = 0\n",
    "    while nn > 1:\n",
    "        if nn % 2 == 0:\n",
    "            nn = nn / 2\n",
    "        else:\n",
    "            nn = nn * 3 + 1\n",
    "        i += 1\n",
    "    return i"
   ]
  },
  {
   "cell_type": "markdown",
   "metadata": {},
   "source": [
    "<div style=\"overflow: auto; border-style: dotted; border-width: 1px; padding: 10px; margin: 10px 0px\">\n",
    "\n",
    "**Mesurez à présent le temps nécessaire pour calculer le résultat pour un nombre comme $63,728,127$**\n",
    "</div>"
   ]
  },
  {
   "cell_type": "code",
   "execution_count": null,
   "metadata": {},
   "outputs": [],
   "source": [
    "# TODO add some magic here!\n",
    "collatz_total_stopping_time(63728127)"
   ]
  },
  {
   "cell_type": "markdown",
   "metadata": {},
   "source": [
    "Finally, let's try to find which numbers in $[1, 100000]$ produces the greatest output."
   ]
  },
  {
   "cell_type": "markdown",
   "metadata": {},
   "source": [
    "<div style=\"overflow: auto; border-style: dotted; border-width: 1px; padding: 10px; margin: 10px 0px\">\n",
    "\n",
    "**Et pour calculer le temps passé dans le calcul suivant ?**\n",
    "</div>"
   ]
  },
  {
   "cell_type": "code",
   "execution_count": null,
   "metadata": {},
   "outputs": [],
   "source": [
    "# TODO add more magic here!\n",
    "max_i = 0\n",
    "max_n = 1\n",
    "for n in range(1, 100000+1):\n",
    "    i = collatz_total_stopping_time(n)\n",
    "    if i > max_i:\n",
    "        max_i = i\n",
    "        max_n = n\n",
    "max_n, max_i"
   ]
  },
  {
   "cell_type": "markdown",
   "metadata": {},
   "source": [
    "## Une dernière astuce : l'aide en ligne"
   ]
  },
  {
   "cell_type": "markdown",
   "metadata": {},
   "source": [
    "Et pour terminer, voici un de mes trucs préférés : **l'aide en ligne**.\n",
    "Vous pouvez ajouter `?` au début ou à la fin de n'importe quelle ligne pour afficher l'aide associée à ce symbole."
   ]
  },
  {
   "cell_type": "markdown",
   "metadata": {},
   "source": [
    "<div style=\"overflow: auto; border-style: dotted; border-width: 1px; padding: 10px; margin: 10px 0px\">\n",
    "\n",
    "**Essayer d'afficher l'aide un élément bien connu.**\n",
    "\n",
    "*Tip : si vous utilisez deux `?`, alors vous aurez davantage d'aide (si c'est possible).*\n",
    "</div>"
   ]
  },
  {
   "cell_type": "code",
   "execution_count": null,
   "metadata": {},
   "outputs": [],
   "source": [
    "# TODO run this cell\n",
    "zip?"
   ]
  },
  {
   "cell_type": "markdown",
   "metadata": {},
   "source": [
    "Vous pouvez même utiliser des caractères génériques pour trouver les symboles qui ont un nom particulier dans le *namespace* courant.\n",
    "\n",
    "Ça peut être bien utile pour (re)trouver le nom d'une fonction dont on se souvient juste un peu…\n",
    "\n",
    "Voici comment faire pour trouver comment lire une image avec *scikit-image*:"
   ]
  },
  {
   "cell_type": "code",
   "execution_count": null,
   "metadata": {},
   "outputs": [],
   "source": [
    "import skimage, skimage.io\n",
    "skimage.*.*read*?"
   ]
  }
 ],
 "metadata": {
  "kernelspec": {
   "display_name": "Python 3 (ipykernel)",
   "language": "python",
   "name": "python3"
  },
  "language_info": {
   "codemirror_mode": {
    "name": "ipython",
    "version": 3
   },
   "file_extension": ".py",
   "mimetype": "text/x-python",
   "name": "python",
   "nbconvert_exporter": "python",
   "pygments_lexer": "ipython3",
   "version": "3.11.9"
  }
 },
 "nbformat": 4,
 "nbformat_minor": 4
}
