{
 "cells": [
  {
   "cell_type": "markdown",
   "id": "c2c0b20a",
   "metadata": {},
   "source": [
    "# TP 1 : Introduction au TP Corrélation & convolution\n",
    "\n",
    "## Objectifs\n",
    "\n",
    "Le but de ce TP est de manipuler un peu les notions théoriques liées à la corrélation et à la convolution que nous avons vues en cours, pour un signal 1D pour commencer, et ensuite pour une image 2D. Attention, ici on va travailler sur la convolution et la corrélation non pas sous la forme analogique, mais sous forme numérique.\n",
    "\n",
    "Vous allez travailler sur les exercices suivants :\n",
    "1. vérifier la relation entre l'intercorrélation de deux signaux $\\Gamma_{xy}$ et leur produit de convolution $x \\ast y$ vue en cours\n",
    "2. localiser l'origine d'un séisme grâce à la fonction d'intercorrélation, pour illustrer son utilité pour des problématiques de reconnaissance de motifs\n",
    "3. mettre en oeuvre la convolution d'une image par un filtre donné, pour illustrer son utilité pour des problématiques de filtrage\n",
    "\n",
    "Chacune de ces notion est développée dans un *notebook* dédié, pour vous permettre de mieux suivre (et éviter des heures de scroll dans des pages infinies)."
   ]
  },
  {
   "cell_type": "markdown",
   "id": "17340453",
   "metadata": {},
   "source": [
    "## Travail à réaliser\n",
    "\n",
    "Les notebooks que nous vous proposons contiennent des activités de plusieurs types :\n",
    "- des notions théoriques à lire et comprendre\n",
    "- des démonstrations visuelles pour vous aider à saisir les notions\n",
    "- des exercices pour lesquels vous devez programmer une solution à un problème\n",
    "- des questions auxquelles vous devez prendre le temps de chercher une réponse\n",
    "\n",
    "D'une manière générale, il vous suffit de lire chacun des notebooks du début à la fin, en exécutant les cellules au fur et à mesure et en prêtant attention aux résultats affichés.\n",
    "\n",
    "Certaines cellules doivent être exécutées sans modification (définition des paramètres, des signaux, etc). Ces cellules sont repérées par le symbole 🛑 <br>\n",
    "**Lorsque vous aurez à ajouter quelque chose dans un notebook**, comme une réponse à une question ou un bout de code, un message bien clair sera visible : \n",
    "### 🛠️ 🚧 👷  À vous de jouer !\n",
    "Dans ce cas, retroussez vos manches et attrapez le clavier !"
   ]
  },
  {
   "cell_type": "markdown",
   "id": "d8477804",
   "metadata": {},
   "source": [
    "# C'est parti !\n",
    "Il est à présent temps de passer à la première partie : [relation entre l'intercorrélation et la convolution](TP1_correlation_convolution_exo1.ipynb)."
   ]
  }
 ],
 "metadata": {
  "kernelspec": {
   "display_name": "Python 3 (ipykernel)",
   "language": "python",
   "name": "python3"
  },
  "language_info": {
   "codemirror_mode": {
    "name": "ipython",
    "version": 3
   },
   "file_extension": ".py",
   "mimetype": "text/x-python",
   "name": "python",
   "nbconvert_exporter": "python",
   "pygments_lexer": "ipython3",
   "version": "3.10.12"
  }
 },
 "nbformat": 4,
 "nbformat_minor": 5
}
